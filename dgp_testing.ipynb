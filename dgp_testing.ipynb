{
 "cells": [
  {
   "cell_type": "code",
   "execution_count": 103,
   "metadata": {},
   "outputs": [],
   "source": [
    "from variable_importance.dgp import DataGenerator\n",
    "\n",
    "dgp = DataGenerator(num_cols=10, num_rows=10, num_important=5, effects='all', num_interaction_terms=2, correlation_range=[-1, -0.9])\n",
    "data = dgp.generate_data()\n",
    "#dgp.frequencies"
   ]
  },
  {
   "cell_type": "code",
   "execution_count": 56,
   "metadata": {},
   "outputs": [],
   "source": [
    "from variable_importance.dgp import DataGenerator\n",
    "\n",
    "try:\n",
    "    for i in range(1000):\n",
    "        dgp = DataGenerator(num_cols=100, num_rows=10, num_important=5, effects='all', num_interaction_terms=20, correlation_range=[-1, -0.9])\n",
    "        data = dgp.generate_data()\n",
    "except Exception as e:\n",
    "    print(\"exception occurred\", e)\n"
   ]
  },
  {
   "cell_type": "code",
   "execution_count": 94,
   "metadata": {},
   "outputs": [
    {
     "name": "stderr",
     "output_type": "stream",
     "text": [
      "....\n",
      "----------------------------------------------------------------------\n",
      "Ran 4 tests in 0.012s\n",
      "\n",
      "OK\n"
     ]
    }
   ],
   "source": [
    "import unittest\n",
    "import numpy as np\n",
    "from variable_importance.dgp import DataGenerator\n",
    "\n",
    "class TestNoiseGeneration(unittest.TestCase):\n",
    "    def setUp(self):\n",
    "        self.num_cols = 10\n",
    "        self.generator = DataGenerator(num_cols=self.num_cols, num_rows=100)\n",
    "\n",
    "    def test_uniform_noise(self):\n",
    "        noise = self.generator.generate_noise(size=1000, distribution='uniform', scale=5)\n",
    "        self.assertEqual(len(noise), 1000)\n",
    "        self.assertTrue(np.all(noise >= -5) and np.all(noise <= 5))\n",
    "\n",
    "    def test_normal_noise(self):\n",
    "        noise = self.generator.generate_noise(size=1000, distribution='normal', scale=2)\n",
    "        self.assertEqual(len(noise), 1000)\n",
    "        self.assertTrue(np.mean(noise) < 0.5)  # Assuming mean is approximately 0\n",
    "        self.assertTrue(np.std(noise) > 1.5 and np.std(noise) < 2.5)  # Assuming std deviation is approximately 2\n",
    "\n",
    "    def test_gamma_noise(self):\n",
    "        noise = self.generator.generate_noise(size=1000, distribution='gamma', scale=2)\n",
    "        self.assertEqual(len(noise), 1000)\n",
    "        self.assertTrue(np.all(noise >= 0))  # Gamma distribution is always non-negative\n",
    "        self.assertTrue(np.mean(noise) > 0)\n",
    "\n",
    "    def test_unsupported_distribution(self):\n",
    "        with self.assertRaises(ValueError):\n",
    "            self.generator.generate_noise(size=100, distribution='unsupported', scale=1)\n",
    "\n",
    "if __name__ == '__main__':\n",
    "    unittest.main(argv=['first-arg-is-ignored'], exit=False)"
   ]
  },
  {
   "cell_type": "code",
   "execution_count": 100,
   "metadata": {},
   "outputs": [
    {
     "name": "stderr",
     "output_type": "stream",
     "text": [
      "."
     ]
    },
    {
     "name": "stderr",
     "output_type": "stream",
     "text": [
      ".F......\n",
      "======================================================================\n",
      "FAIL: test_initialization (__main__.TestDataGenerator)\n",
      "Test the initialization and settings of DataGenerator parameters.\n",
      "----------------------------------------------------------------------\n",
      "Traceback (most recent call last):\n",
      "  File \"/tmp/ipykernel_7197/2874237749.py\", line 15, in test_initialization\n",
      "    self.assertEqual(len(self.generator.frequencies), 10)\n",
      "AssertionError: 100 != 10\n",
      "\n",
      "----------------------------------------------------------------------\n",
      "Ran 9 tests in 0.043s\n",
      "\n",
      "FAILED (failures=1)\n"
     ]
    }
   ],
   "source": [
    "import unittest\n",
    "import numpy as np\n",
    "import pandas as pd\n",
    "\n",
    "class TestDataGenerator(unittest.TestCase):\n",
    "    def setUp(self):\n",
    "        self.generator = DataGenerator(num_cols=10, num_rows=100, num_important=3, noise_scale=1, noise_distribution='normal')\n",
    "\n",
    "    def test_initialization(self):\n",
    "        \"\"\"Test the initialization and settings of DataGenerator parameters.\"\"\"\n",
    "        self.assertEqual(self.generator.num_cols, 10)\n",
    "        self.assertEqual(self.generator.num_rows, 100)\n",
    "        self.assertEqual(self.generator.num_important, 3)\n",
    "        self.assertIsNotNone(self.generator.frequencies)\n",
    "        self.assertEqual(len(self.generator.frequencies), 10)\n",
    "\n",
    "    def test_noise_generation(self):\n",
    "        \"\"\"Test noise generation for uniform and normal distributions.\"\"\"\n",
    "        noise_uniform = self.generator.generate_noise(100, 'uniform', 1)\n",
    "        noise_normal = self.generator.generate_noise(100, 'normal', 1)\n",
    "        self.assertEqual(len(noise_uniform), 100)\n",
    "        self.assertEqual(len(noise_normal), 100)\n",
    "        self.assertTrue(np.all(noise_uniform >= -1) and np.all(noise_uniform <= 1))\n",
    "        # Check that the noise is normally distributed by checking the mean is close to 0\n",
    "        self.assertTrue(abs(np.mean(noise_normal)) < 0.5)\n",
    "\n",
    "    def test_interaction_generation(self):\n",
    "        \"\"\"Test the generation of interaction terms.\"\"\"\n",
    "        interactions = self.generator.generate_interactions()\n",
    "        self.assertIsInstance(interactions, dict)\n",
    "        self.assertTrue(all(isinstance(k, tuple) and len(k) == 2 for k in interactions.values()))\n",
    "\n",
    "    def test_data_generation(self):\n",
    "        \"\"\"Test the overall data generation process.\"\"\"\n",
    "        df = self.generator.generate_data()\n",
    "        self.assertIsInstance(df, pd.DataFrame)\n",
    "        self.assertEqual(df.shape, (100, 11))  # 10 features + 1 target\n",
    "        self.assertTrue('target' in df.columns)\n",
    "\n",
    "    def test_effects_application(self):\n",
    "        \"\"\"Test that effects are applied correctly.\"\"\"\n",
    "        self.generator.effects = {i: (lambda x: x * 2) for i in range(10)}\n",
    "        df = self.generator.generate_data()\n",
    "        for col in range(10):\n",
    "            with self.subTest(column=col):\n",
    "                self.assertTrue((df[col] * 2).equals(df[col] * df[col].apply(self.generator.effects[col])))\n",
    "\n",
    "# Running the tests in Jupyter Notebook\n",
    "if __name__ == '__main__':\n",
    "    unittest.main(argv=['first-arg-is-ignored'], exit=False)"
   ]
  }
 ],
 "metadata": {
  "kernelspec": {
   "display_name": "Python 3",
   "language": "python",
   "name": "python3"
  },
  "language_info": {
   "codemirror_mode": {
    "name": "ipython",
    "version": 3
   },
   "file_extension": ".py",
   "mimetype": "text/x-python",
   "name": "python",
   "nbconvert_exporter": "python",
   "pygments_lexer": "ipython3",
   "version": "3.8.10"
  }
 },
 "nbformat": 4,
 "nbformat_minor": 2
}
